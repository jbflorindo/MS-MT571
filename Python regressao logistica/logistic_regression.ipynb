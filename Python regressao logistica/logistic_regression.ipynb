{
  "cells": [
    {
      "cell_type": "code",
      "source": [
        "from google.colab import drive\n",
        "drive.mount('/content/drive')"
      ],
      "metadata": {
        "id": "0d1nbT64QWkv"
      },
      "execution_count": null,
      "outputs": []
    },
    {
      "cell_type": "code",
      "source": [
        "cd /content/drive/MyDrive/MS-MT571/Logistic_regression/"
      ],
      "metadata": {
        "id": "ikWhHiKqQtse"
      },
      "execution_count": null,
      "outputs": []
    },
    {
      "cell_type": "code",
      "execution_count": null,
      "metadata": {
        "id": "F5zsWxHSQJ5L"
      },
      "outputs": [],
      "source": [
        "import numpy as np\n",
        "import matplotlib.pyplot as plt\n",
        "import pandas as pd"
      ]
    },
    {
      "cell_type": "code",
      "execution_count": null,
      "metadata": {
        "id": "5toP58rwQJ5N"
      },
      "outputs": [],
      "source": [
        "df = pd.read_csv(\"ex2data1.txt\",header=None)\n",
        "df.head()"
      ]
    },
    {
      "cell_type": "code",
      "execution_count": null,
      "metadata": {
        "id": "JK_VrGhsQJ5O"
      },
      "outputs": [],
      "source": [
        "X = df.iloc[:,:-1].values\n",
        "y = df.iloc[:,-1].values"
      ]
    },
    {
      "cell_type": "code",
      "execution_count": null,
      "metadata": {
        "id": "xIGK4am3QJ5P"
      },
      "outputs": [],
      "source": [
        "pos,neg = y==1,y==0\n",
        "plt.scatter(X[pos,0],X[pos,1],c='r',marker='+')\n",
        "plt.scatter(X[neg,0],X[neg,1],marker='o',s=10)\n",
        "plt.xlabel(\"Nota Simulado 1\")\n",
        "plt.ylabel(\"Nota Simulado 2\")\n",
        "plt.legend([\"Aprovado\",\"Não Aprovado\"],loc=0)"
      ]
    },
    {
      "cell_type": "code",
      "execution_count": null,
      "metadata": {
        "id": "bP1yyw4UQJ5Q"
      },
      "outputs": [],
      "source": [
        "def featureNormalize(X):\n",
        "    X_norm = (X-np.mean(X,axis=0))/np.std(X,axis=0)\n",
        "    mu = np.mean(X,axis=0)\n",
        "    sigma = np.std(X,axis=0)\n",
        "    return X_norm, mu, sigma"
      ]
    },
    {
      "cell_type": "code",
      "execution_count": null,
      "metadata": {
        "id": "8N6v7pkvQJ5Q"
      },
      "outputs": [],
      "source": [
        "def sigmoid(z):\n",
        "    return 1/(1+np.exp(-z))"
      ]
    },
    {
      "cell_type": "code",
      "execution_count": null,
      "metadata": {
        "id": "CzMrLoJ9QJ5R"
      },
      "outputs": [],
      "source": [
        "def computeCost(X,y,theta):\n",
        "    m = len(y)\n",
        "    h = sigmoid(X.dot(theta))\n",
        "    J = (1/m)*np.sum((-y*np.log(h))-((1-y)*np.log(1-h)))\n",
        "    return J"
      ]
    },
    {
      "cell_type": "code",
      "execution_count": null,
      "metadata": {
        "id": "DnLdUMMJQJ5R"
      },
      "outputs": [],
      "source": [
        "def gradientDescent (X,y,theta,alpha,nbr_iter):\n",
        "    J_history = []\n",
        "    m = len(y)\n",
        "    \n",
        "    for i in range(nbr_iter):\n",
        "        h = sigmoid(X.dot(theta))\n",
        "        theta = theta - (alpha/m)*(X.T.dot(h-y))\n",
        "        J_history.append(computeCost(X,y,theta))\n",
        "        \n",
        "    return theta,J_history"
      ]
    },
    {
      "cell_type": "code",
      "execution_count": null,
      "metadata": {
        "id": "bwA-tvNVQJ5S"
      },
      "outputs": [],
      "source": [
        "def prediction(X,new_theta):\n",
        "    pred = sigmoid(np.dot(X,new_theta))\n",
        "    return pred"
      ]
    },
    {
      "cell_type": "code",
      "execution_count": null,
      "metadata": {
        "id": "jJaQxq5oQJ5T"
      },
      "outputs": [],
      "source": [
        "m = X.shape[0]\n",
        "n = X.shape[1]\n",
        "X,mean,std = featureNormalize(X)\n",
        "X = np.append(np.ones([m,1]),X,axis=1)\n",
        "y = np.array(y).reshape(-1,1)\n",
        "theta = np.zeros([n+1,1])\n",
        "cost = computeCost(X,y,theta)\n",
        "print(cost)"
      ]
    },
    {
      "cell_type": "code",
      "execution_count": null,
      "metadata": {
        "id": "NIkaVFx0QJ5U"
      },
      "outputs": [],
      "source": [
        "nbr_iter = 400\n",
        "alpha = 0.01\n",
        "new_theta,J_history = gradientDescent(X,y,theta,alpha,nbr_iter)\n",
        "print(new_theta)"
      ]
    },
    {
      "cell_type": "code",
      "execution_count": null,
      "metadata": {
        "id": "URHvQCTuQJ5U"
      },
      "outputs": [],
      "source": [
        "new_cost = computeCost(X,y,new_theta)\n",
        "print(new_cost)"
      ]
    },
    {
      "cell_type": "code",
      "execution_count": null,
      "metadata": {
        "id": "cR5mgCtJQJ5U"
      },
      "outputs": [],
      "source": [
        "plt.plot(range(len(J_history)),J_history)\n",
        "plt.ylabel('Custo')\n",
        "plt.xlabel('Número de iterações')\n",
        "plt.show()"
      ]
    },
    {
      "cell_type": "code",
      "execution_count": null,
      "metadata": {
        "id": "3CDHjoEaQJ5V"
      },
      "outputs": [],
      "source": [
        "plt.scatter(X[pos,1],X[pos,2],c=\"r\",marker=\"+\",label=\"Aprovado\")\n",
        "plt.scatter(X[neg,1],X[neg,2],c=\"b\",marker=\"o\",label=\"Não Aprovado\")\n",
        "x_value = np.array([np.min(X[:,1]),np.max(X[:,1])])\n",
        "y_value = -(new_theta[0]+new_theta[1]*x_value)/new_theta[2]\n",
        "plt.plot(x_value,y_value,\"g\")\n",
        "plt.xlabel(\"Nota Simulado 1\")\n",
        "plt.ylabel(\"Nota Simulado 2\")\n",
        "plt.legend(loc=0)"
      ]
    },
    {
      "cell_type": "code",
      "execution_count": null,
      "metadata": {
        "id": "QkP21Kq6QJ5V"
      },
      "outputs": [],
      "source": [
        "x_test = np.array([45,85])\n",
        "x_test = (x_test-mean)/std\n",
        "x_test = np.append(np.ones(1),x_test)\n",
        "prob = prediction(x_test,new_theta)\n",
        "print(\"Para um estudante com notas 45 e 85, a regressão logística prevê uma probabilidade de aprovação de\",prob[0])"
      ]
    }
  ],
  "metadata": {
    "kernelspec": {
      "display_name": "Python 3",
      "language": "python",
      "name": "python3"
    },
    "language_info": {
      "codemirror_mode": {
        "name": "ipython",
        "version": 3
      },
      "file_extension": ".py",
      "mimetype": "text/x-python",
      "name": "python",
      "nbconvert_exporter": "python",
      "pygments_lexer": "ipython3",
      "version": "3.7.3"
    },
    "colab": {
      "provenance": [],
      "collapsed_sections": []
    }
  },
  "nbformat": 4,
  "nbformat_minor": 0
}