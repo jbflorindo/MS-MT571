{
 "cells": [
  {
   "cell_type": "code",
   "execution_count": 1,
   "metadata": {},
   "outputs": [],
   "source": [
    "import numpy as np\n",
    "from sklearn.datasets import make_regression\n",
    "import matplotlib.pyplot as plt"
   ]
  },
  {
   "cell_type": "code",
   "execution_count": 2,
   "metadata": {},
   "outputs": [],
   "source": [
    "def featureNormalize(X):\n",
    "    \"\"\"This function takes the features as input and\n",
    "     returns the normalized values, the mean, as well \n",
    "     as the standard deviation for each feature.\"\"\"\n",
    "    X_norm = (X - np.mean(X))/np.std(X) # Scaling function. \n",
    "    mu = np.mean(X) # Define the mean \n",
    "    sigma = np.std(X) # Define the standard deviation. \n",
    "    return X_norm, mu, sigma # return the values."
   ]
  },
  {
   "cell_type": "code",
   "execution_count": 3,
   "metadata": {},
   "outputs": [],
   "source": [
    "def computeCostMulti(X,y, theta):\n",
    "    '''\n",
    "    This function takes in the X and y matrices as well as the \n",
    "    initial theta values(coefficients) and returns the cost(error of             \n",
    "    prediction)\n",
    "    '''\n",
    "    m = len(y)              #This is the length of the training set\n",
    "    h = X.dot(theta)        #The hypothesis\n",
    "    J = 1/(2*m)*(np.sum((h-y)**2))             #The cost function\n",
    "    return J                #return the cost"
   ]
  },
  {
   "cell_type": "code",
   "execution_count": 4,
   "metadata": {},
   "outputs": [],
   "source": [
    "def gradientDescentMulti(X, y, theta, alpha, nbr_iter):\n",
    "    '''\n",
    "    This function takes in the X and y matrices, the initial theta\n",
    "    values(coefficients), the learning rate, and the number of \n",
    "    iterations. The output will be the a new set of coefficient of \n",
    "    the linear regression (theta), optimized for making predictions.\n",
    "    '''   \n",
    "    \n",
    "    J_history = []        #Array for storing the cost values for each iteration\n",
    "    m = len(y)            #This is the length of the training set\n",
    "    \n",
    "    for i in range(nbr_iter):             #Loop for 400 iterations\n",
    "        h = X.dot(theta) # The hypothesis\n",
    "        theta = theta - (alpha/m)*(X.T.dot(h-y))   #Gradient descent\n",
    "                                                   #function        \n",
    "        J_history.append(computeCostMulti(X, y, theta))  #Append the cost to the J_history array    \n",
    "    return theta, J_history     #return the final values of theta and the J_history array"
   ]
  },
  {
   "cell_type": "code",
   "execution_count": 5,
   "metadata": {},
   "outputs": [],
   "source": [
    "def prediction(X, new_theta):\n",
    "    '''\n",
    "    This function takes in features and predicts output.\n",
    "    '''\n",
    "    pred = np.dot(X,new_theta)  #We use the new coefficients.\n",
    "    return pred "
   ]
  },
  {
   "cell_type": "code",
   "execution_count": 6,
   "metadata": {},
   "outputs": [
    {
     "name": "stdout",
     "output_type": "stream",
     "text": [
      "17624.305480425395\n"
     ]
    }
   ],
   "source": [
    "X,y = make_regression(n_samples=100, n_features=10)\n",
    "m = len(y)\n",
    "n = X.shape[1]\n",
    "X, mean, std = featureNormalize(X)\n",
    "X = np.append(np.ones([m,1]), X, axis=1)#Append the bias term to X and reshape X to mx1 matrix\n",
    "y = np.array(y).reshape(-1,1) #Reshape y to mx1 matrix\n",
    "theta = np.zeros([n+1,1])\n",
    "cost = computeCostMulti(X,y, theta)  #Call the function and pass in values for X, y, and theta to compute the cost.\n",
    "print(cost)                     #Print out the cost"
   ]
  },
  {
   "cell_type": "code",
   "execution_count": 7,
   "metadata": {},
   "outputs": [
    {
     "name": "stdout",
     "output_type": "stream",
     "text": [
      "[[ 4.83482357]\n",
      " [78.01982248]\n",
      " [61.23980985]\n",
      " [46.35499193]\n",
      " [20.92419553]\n",
      " [35.63959079]\n",
      " [23.40656491]\n",
      " [75.07690098]\n",
      " [57.33588728]\n",
      " [81.01038616]\n",
      " [10.89555821]]\n"
     ]
    }
   ],
   "source": [
    "nbr_iter = 400 ## Number of iterations.\n",
    "alpha = 0.01 ## Learning rate\n",
    "new_theta, J_history = gradientDescentMulti(X, y, theta, alpha, nbr_iter)\n",
    "print(new_theta)"
   ]
  },
  {
   "cell_type": "code",
   "execution_count": 8,
   "metadata": {},
   "outputs": [
    {
     "name": "stdout",
     "output_type": "stream",
     "text": [
      "8.191080902659419\n"
     ]
    }
   ],
   "source": [
    "new_cost = computeCostMulti(X,y, new_theta)\n",
    "print(new_cost)"
   ]
  },
  {
   "cell_type": "code",
   "execution_count": 9,
   "metadata": {},
   "outputs": [
    {
     "data": {
      "image/png": "[encoded data removed]",
      "text/plain": [
       "<Figure size 432x288 with 1 Axes>"
      ]
     },
     "metadata": {
      "needs_background": "light"
     },
     "output_type": "display_data"
    }
   ],
   "source": [
    "plt.plot(range(len(J_history)),J_history)\n",
    "plt.ylabel('Cost')\n",
    "plt.xlabel('Number of iterations')\n",
    "plt.show()"
   ]
  },
  {
   "cell_type": "code",
   "execution_count": 10,
   "metadata": {},
   "outputs": [
    {
     "name": "stdout",
     "output_type": "stream",
     "text": [
      "[[ 1.         10.16839339 10.16839339 10.16839339 10.16839339 10.16839339\n",
      "  10.16839339 10.16839339 10.16839339 10.16839339 10.16839339]]\n",
      "[[0.]]\n"
     ]
    }
   ],
   "source": [
    "X = np.array([10,10,10,10,10,10,10,10,10,10])\n",
    "X = (X - mean)/std \n",
    "X = np.append(1, X) \n",
    "X = np.reshape(X, (1,n+1))\n",
    "print(X) \n",
    "pred = prediction(X, theta)\n",
    "print(pred)"
   ]
  },
  {
   "cell_type": "code",
   "execution_count": null,
   "metadata": {},
   "outputs": [],
   "source": []
  }
 ],
 "metadata": {
  "kernelspec": {
   "display_name": "Python 3 (ipykernel)",
   "language": "python",
   "name": "python3"
  },
  "language_info": {
   "codemirror_mode": {
    "name": "ipython",
    "version": 3
   },
   "file_extension": ".py",
   "mimetype": "text/x-python",
   "name": "python",
   "nbconvert_exporter": "python",
   "pygments_lexer": "ipython3",
   "version": "3.7.11"
  }
 },
 "nbformat": 4,
 "nbformat_minor": 2
}
