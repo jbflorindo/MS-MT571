{
 "cells": [
  {
   "cell_type": "code",
   "execution_count": 1,
   "metadata": {},
   "outputs": [],
   "source": [
    "import numpy as np\n",
    "from sklearn.datasets import make_regression\n",
    "import matplotlib.pyplot as plt"
   ]
  },
  {
   "cell_type": "code",
   "execution_count": 2,
   "metadata": {},
   "outputs": [],
   "source": [
    "def prediction(X, new_theta):\n",
    "    '''\n",
    "    This function takes in features and predicts output.\n",
    "    '''\n",
    "    pred = np.dot(X,new_theta)  #We use the new coefficients.\n",
    "    return pred "
   ]
  },
  {
   "cell_type": "code",
   "execution_count": 3,
   "metadata": {},
   "outputs": [],
   "source": [
    "X,y = make_regression(n_samples=100, n_features=10)\n",
    "m = len(y)\n",
    "n = X.shape[1]\n",
    "X = np.append(np.ones([m,1]), X, axis=1)#Append the bias term to X and reshape X to mx1 matrix"
   ]
  },
  {
   "cell_type": "code",
   "execution_count": 4,
   "metadata": {},
   "outputs": [],
   "source": [
    "theta = np.linalg.inv((X.T.dot(X))).dot(X.T.dot(y))"
   ]
  },
  {
   "cell_type": "code",
   "execution_count": 5,
   "metadata": {},
   "outputs": [
    {
     "name": "stdout",
     "output_type": "stream",
     "text": [
      "[[2.13162821e-14]\n",
      " [7.45366496e+01]\n",
      " [5.66699370e+01]\n",
      " [8.36234056e+01]\n",
      " [4.90490343e+01]\n",
      " [5.57030922e+01]\n",
      " [7.09641992e+01]\n",
      " [4.42347655e+01]\n",
      " [1.58888383e+00]\n",
      " [7.34521222e+01]\n",
      " [7.48516635e+01]]\n"
     ]
    }
   ],
   "source": [
    "theta=theta.reshape(n+1,1) \n",
    "print(theta)"
   ]
  },
  {
   "cell_type": "code",
   "execution_count": 6,
   "metadata": {},
   "outputs": [
    {
     "name": "stdout",
     "output_type": "stream",
     "text": [
      "[[5846.73752997]]\n"
     ]
    }
   ],
   "source": [
    "X = np.array([10,10,10,10,10,10,10,10,10,10])\n",
    "X = np.append(1, X) \n",
    "X = np.reshape(X, (1,n+1))\n",
    "pred = prediction(X, theta)\n",
    "print(pred)"
   ]
  },
  {
   "cell_type": "code",
   "execution_count": null,
   "metadata": {},
   "outputs": [],
   "source": []
  }
 ],
 "metadata": {
  "kernelspec": {
   "display_name": "Python 3 (ipykernel)",
   "language": "python",
   "name": "python3"
  },
  "language_info": {
   "codemirror_mode": {
    "name": "ipython",
    "version": 3
   },
   "file_extension": ".py",
   "mimetype": "text/x-python",
   "name": "python",
   "nbconvert_exporter": "python",
   "pygments_lexer": "ipython3",
   "version": "3.7.11"
  }
 },
 "nbformat": 4,
 "nbformat_minor": 2
}
